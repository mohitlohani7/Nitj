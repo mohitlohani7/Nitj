{
 "cells": [
  {
   "cell_type": "code",
   "execution_count": 1,
   "id": "c1d42c5f-af9b-418b-b302-e281874c6801",
   "metadata": {},
   "outputs": [
    {
     "name": "stdout",
     "output_type": "stream",
     "text": [
      "Not Found\n"
     ]
    }
   ],
   "source": [
    "pos = -1\n",
    "\n",
    "def search(list, n):\n",
    "\n",
    "    l = 0\n",
    "    u = len(list)-1\n",
    "\n",
    "    while l <= u:\n",
    "        mid = (l+u) // 2\n",
    "\n",
    "        if list[mid] == n:\n",
    "            globals()['pos'] = mid\n",
    "            return True\n",
    "        else:\n",
    "            if list[mid] < n:\n",
    "                l = mid+1;\n",
    "            else:\n",
    "                u = mid-1;\n",
    "\n",
    "    return False\n",
    "\n",
    "\n",
    "list = [4,7,8,12,45,99,102,702,10987,56666]\n",
    "n = 10\n",
    "\n",
    "if search(list, n):\n",
    "    print(\"Found at \",pos+1)\n",
    "else:\n",
    "    print(\"Not Found\")"
   ]
  },
  {
   "cell_type": "code",
   "execution_count": 2,
   "id": "001d59c5-709c-4623-b6a0-27a93892017f",
   "metadata": {},
   "outputs": [],
   "source": [
    "#Binary search\n",
    "def binarysearch(l,x):\n",
    "    low =0\n",
    "    high =len(l)-1\n",
    "    while low<=high:\n",
    "        mid=(low+high)//2\n",
    "        if l[mid]==x:\n",
    "            return mid\n",
    "        elif l[mid]<x:\n",
    "            low=mid+1\n",
    "        else:\n",
    "            high = mid - 1\n",
    "    return -1\n"
   ]
  },
  {
   "cell_type": "code",
   "execution_count": 3,
   "id": "b9140ad2-141e-4c1c-9fcb-95e425025c5a",
   "metadata": {},
   "outputs": [
    {
     "data": {
      "text/plain": [
       "6"
      ]
     },
     "execution_count": 3,
     "metadata": {},
     "output_type": "execute_result"
    }
   ],
   "source": [
    "l=[10,20,30,40,50,60,70,80,90,100,110,120]\n",
    "binarysearch(l,70)"
   ]
  },
  {
   "cell_type": "code",
   "execution_count": null,
   "id": "657dec86-9e78-435f-961d-60a069160aa9",
   "metadata": {},
   "outputs": [],
   "source": []
  }
 ],
 "metadata": {
  "kernelspec": {
   "display_name": "Python 3 (ipykernel)",
   "language": "python",
   "name": "python3"
  },
  "language_info": {
   "codemirror_mode": {
    "name": "ipython",
    "version": 3
   },
   "file_extension": ".py",
   "mimetype": "text/x-python",
   "name": "python",
   "nbconvert_exporter": "python",
   "pygments_lexer": "ipython3",
   "version": "3.11.7"
  }
 },
 "nbformat": 4,
 "nbformat_minor": 5
}
