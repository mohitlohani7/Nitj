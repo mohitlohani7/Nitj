{
 "cells": [
  {
   "cell_type": "code",
   "execution_count": 1,
   "id": "dbb1b4f7-93c5-402b-95d6-1e99a2ae9197",
   "metadata": {},
   "outputs": [
    {
     "name": "stdout",
     "output_type": "stream",
     "text": [
      "Found at  5\n"
     ]
    }
   ],
   "source": [
    "pos = -1\n",
    "def search(list, n):\n",
    "    i = 0\n",
    "    while i< len(list):\n",
    "        if list[i] == n:\n",
    "            globals()['pos'] = i\n",
    "            return True\n",
    "        i = i + 1;\n",
    "    return False\n",
    "\n",
    "list = [5,8,4,6,9,2]\n",
    "n = 9\n",
    "\n",
    "if search(list, n):\n",
    "    print(\"Found at \",pos+1)\n",
    "else:\n",
    "    print(\"Not Found\")"
   ]
  },
  {
   "cell_type": "code",
   "execution_count": null,
   "id": "8eae07c3-a19d-43f5-b33f-38b966d518fa",
   "metadata": {},
   "outputs": [],
   "source": []
  }
 ],
 "metadata": {
  "kernelspec": {
   "display_name": "Python 3 (ipykernel)",
   "language": "python",
   "name": "python3"
  },
  "language_info": {
   "codemirror_mode": {
    "name": "ipython",
    "version": 3
   },
   "file_extension": ".py",
   "mimetype": "text/x-python",
   "name": "python",
   "nbconvert_exporter": "python",
   "pygments_lexer": "ipython3",
   "version": "3.11.7"
  }
 },
 "nbformat": 4,
 "nbformat_minor": 5
}
