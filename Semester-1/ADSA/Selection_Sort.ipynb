{
 "cells": [
  {
   "cell_type": "code",
   "execution_count": 9,
   "id": "7e60f2f1-94b8-4b30-9e37-b95a85f3f3d2",
   "metadata": {},
   "outputs": [
    {
     "name": "stdout",
     "output_type": "stream",
     "text": [
      "[2, 3, 8, 6, 7, 15]\n",
      "[2, 3, 8, 6, 7, 15]\n",
      "[2, 8, 3, 6, 7, 15]\n",
      "[2, 8, 6, 3, 7, 15]\n",
      "[2, 8, 6, 7, 3, 15]\n",
      "[2, 8, 6, 7, 3, 15]\n"
     ]
    }
   ],
   "source": [
    "def sort(nums):\n",
    "\n",
    "    for i in range (5):\n",
    "        minpos = i\n",
    "        for j in range (1,6):\n",
    "            if nums [j] < nums [minpos]:\n",
    "                minpos=j\n",
    "\n",
    "        \n",
    "        temp =nums [i]\n",
    "        nums[i] = nums [minpos]\n",
    "        nums [minpos] = temp\n",
    "        \n",
    "        print (nums)\n",
    "\n",
    "nums =[15, 3, 8, 6, 7, 2]\n",
    "sort(nums)\n",
    "\n",
    "print(nums)"
   ]
  },
  {
   "cell_type": "code",
   "execution_count": 10,
   "id": "942f45fc-0650-4c16-9139-14080be86ede",
   "metadata": {},
   "outputs": [],
   "source": [
    "# More Selection Sort\n",
    "def selectSort(l):\n",
    "    n= len(l)\n",
    "    for i in range(n-1):\n",
    "        mid_ind=i\n",
    "        for j in range(i+1,n):\n",
    "            if l[j]<l[mid_ind]:\n",
    "                mid_ind=j\n",
    "        l[mid_ind],l[i]=l[i],l[mid_ind]"
   ]
  },
  {
   "cell_type": "code",
   "execution_count": 11,
   "id": "5255b0fe-beb7-48ed-ba52-7d4f716b7b2b",
   "metadata": {},
   "outputs": [
    {
     "name": "stdout",
     "output_type": "stream",
     "text": [
      "[2, 5, 8, 10, 18, 20]\n"
     ]
    }
   ],
   "source": [
    "l = [10, 5, 8, 20, 2, 18]\n",
    "\n",
    "selectSort(l)\n",
    "\n",
    "print(l)"
   ]
  },
  {
   "cell_type": "code",
   "execution_count": null,
   "id": "43d7d384-f5e2-443a-9168-318d56ca9f57",
   "metadata": {},
   "outputs": [],
   "source": []
  }
 ],
 "metadata": {
  "kernelspec": {
   "display_name": "Python 3 (ipykernel)",
   "language": "python",
   "name": "python3"
  },
  "language_info": {
   "codemirror_mode": {
    "name": "ipython",
    "version": 3
   },
   "file_extension": ".py",
   "mimetype": "text/x-python",
   "name": "python",
   "nbconvert_exporter": "python",
   "pygments_lexer": "ipython3",
   "version": "3.11.7"
  }
 },
 "nbformat": 4,
 "nbformat_minor": 5
}
