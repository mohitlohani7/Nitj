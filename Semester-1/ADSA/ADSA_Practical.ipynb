{
 "cells": [
  {
   "cell_type": "code",
   "execution_count": 1,
   "id": "c77f870b-f590-431d-abcb-73ce85248903",
   "metadata": {},
   "outputs": [
    {
     "name": "stdout",
     "output_type": "stream",
     "text": [
      "Intersection: [4, 5]\n"
     ]
    }
   ],
   "source": [
    "#Q1-Implement a function to find the intersection of two arrays\n",
    "def find_intersection(arr1, arr2):\n",
    "    \n",
    "    set1 = set(arr1)\n",
    "    set2 = set(arr2)\n",
    "    intersection = list(set1 & set2)\n",
    "    return intersection\n",
    "\n",
    "# Example usage\n",
    "array1 = [1, 2, 3, 4, 5]\n",
    "array2 = [4, 5, 6, 7, 8]\n",
    "result = find_intersection(array1, array2)\n",
    "print(\"Intersection:\", result)\n"
   ]
  },
  {
   "cell_type": "code",
   "execution_count": 4,
   "id": "2e2a3eb9-9459-4afc-ba7d-f65c2a6b995d",
   "metadata": {},
   "outputs": [
    {
     "name": "stdout",
     "output_type": "stream",
     "text": [
      "Number of inversions: 5\n"
     ]
    }
   ],
   "source": [
    "#Q2-Write a program to count the number of inversions in an array using a modified merge sort algorithm.\n",
    "def merge_and_count(arr, temp_arr, left, mid, right):\n",
    "    i = left    \n",
    "    j = mid + 1 \n",
    "    k = left    \n",
    "    inv_count = 0\n",
    "\n",
    "    while i <= mid and j <= right:\n",
    "        if arr[i] <= arr[j]:\n",
    "            temp_arr[k] = arr[i]\n",
    "            i += 1\n",
    "        else:\n",
    "            temp_arr[k] = arr[j]\n",
    "            inv_count += (mid - i + 1)\n",
    "            j += 1\n",
    "        k += 1\n",
    "\n",
    "    while i <= mid:\n",
    "        temp_arr[k] = arr[i]\n",
    "        i += 1\n",
    "        k += 1\n",
    "\n",
    "    while j <= right:\n",
    "        temp_arr[k] = arr[j]\n",
    "        j += 1\n",
    "        k += 1\n",
    "\n",
    "    for i in range(left, right + 1):\n",
    "        arr[i] = temp_arr[i]\n",
    "\n",
    "    return inv_count\n",
    "\n",
    "def merge_sort_and_count(arr, temp_arr, left, right):\n",
    "    inv_count = 0\n",
    "    if left < right:\n",
    "        mid = (left + right) // 2\n",
    "\n",
    "        inv_count += merge_sort_and_count(arr, temp_arr, left, mid)\n",
    "        inv_count += merge_sort_and_count(arr, temp_arr, mid + 1, right)\n",
    "        inv_count += merge_and_count(arr, temp_arr, left, mid, right)\n",
    "\n",
    "    return inv_count\n",
    "\n",
    "def count_inversions(arr):\n",
    "    n = len(arr)\n",
    "    temp_arr = [0] * n\n",
    "    return merge_sort_and_count(arr, temp_arr, 0, n - 1)\n",
    "\n",
    "# Example usage\n",
    "array = [1, 20, 6, 4, 5]\n",
    "result = count_inversions(array)\n",
    "print(\"Number of inversions:\", result)\n"
   ]
  },
  {
   "cell_type": "code",
   "execution_count": 3,
   "id": "f51f59d9-de03-466d-b1f6-8436d8071df3",
   "metadata": {},
   "outputs": [
    {
     "name": "stdout",
     "output_type": "stream",
     "text": [
      "Doubly Linked List (forward): [1, 2, 3, 4, 5]\n"
     ]
    }
   ],
   "source": [
    "#Q3-Implement a program to convert a singly linked list to a doubly linked list.\n",
    "class Node:\n",
    "    def __init__(self, data):\n",
    "        self.data = data\n",
    "        self.next = None\n",
    "        self.prev = None\n",
    "\n",
    "def convert_to_doubly_linked_list(head):\n",
    "    if not head:\n",
    "        return None\n",
    "\n",
    "    current = head\n",
    "    prev = None\n",
    "\n",
    "    while current:\n",
    "        current.prev = prev\n",
    "        prev = current\n",
    "        current = current.next\n",
    "\n",
    "    return head\n",
    "\n",
    "\n",
    "def create_singly_linked_list(elements):\n",
    "    if not elements:\n",
    "        return None\n",
    "    head = Node(elements[0])\n",
    "    current = head\n",
    "    for data in elements[1:]:\n",
    "        current.next = Node(data)\n",
    "        current = current.next\n",
    "    return head\n",
    "\n",
    "def display_doubly_linked_list(head):\n",
    "    result = []\n",
    "    current = head\n",
    "    while current:\n",
    "        result.append(current.data)\n",
    "        current = current.next\n",
    "    print(\"Doubly Linked List (forward):\", result)\n",
    "\n",
    "# Example usage\n",
    "elements = [1, 2, 3, 4, 5]\n",
    "singly_head = create_singly_linked_list(elements)\n",
    "doubly_head = convert_to_doubly_linked_list(singly_head)\n",
    "display_doubly_linked_list(doubly_head)\n"
   ]
  },
  {
   "cell_type": "code",
   "execution_count": null,
   "id": "f4cc1af8-6602-4642-9d3b-d77b780057fd",
   "metadata": {},
   "outputs": [],
   "source": []
  }
 ],
 "metadata": {
  "kernelspec": {
   "display_name": "Python 3 (ipykernel)",
   "language": "python",
   "name": "python3"
  },
  "language_info": {
   "codemirror_mode": {
    "name": "ipython",
    "version": 3
   },
   "file_extension": ".py",
   "mimetype": "text/x-python",
   "name": "python",
   "nbconvert_exporter": "python",
   "pygments_lexer": "ipython3",
   "version": "3.12.0"
  }
 },
 "nbformat": 4,
 "nbformat_minor": 5
}
