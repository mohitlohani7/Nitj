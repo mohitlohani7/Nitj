{
 "cells": [
  {
   "cell_type": "code",
   "execution_count": 10,
   "id": "b5e32c21-8e18-4541-8bb8-5f95d2ab21be",
   "metadata": {},
   "outputs": [
    {
     "name": "stdout",
     "output_type": "stream",
     "text": [
      "[2, 3, 5, 6, 7, 8]\n"
     ]
    }
   ],
   "source": [
    "def sort(nums):\n",
    "    for i in range (len (nums)-1,0,-1):\n",
    "        for j in range(i):\n",
    "            if nums[j]>nums[j+1]:\n",
    "                temp = nums[j]\n",
    "                nums[j] = nums[j+1]\n",
    "                nums[j+1]= temp\n",
    "\n",
    "nums =[5, 3, 8, 6, 7, 2]\n",
    "sort(nums)\n",
    "print(nums)"
   ]
  },
  {
   "cell_type": "code",
   "execution_count": 11,
   "id": "43f6b733-2a79-4729-b572-c57c34354d00",
   "metadata": {},
   "outputs": [],
   "source": [
    "#Bubble sort\n",
    "#O(n^2)\n",
    "def bubblesort(l):\n",
    "    n= len(l)\n",
    "    for i in range(n-1):\n",
    "        swapped =False\n",
    "        for j in range(n-i-1):\n",
    "            if l[j]>l[j+1]:\n",
    "                l[j+1],l[j]=l[j],l[j+1]\n",
    "                swapped =True\n",
    "        if swapped==False:\n",
    "            return"
   ]
  },
  {
   "cell_type": "code",
   "execution_count": 12,
   "id": "39edd21c-6ebb-4c7d-adf2-2ad4dd3c6c52",
   "metadata": {},
   "outputs": [
    {
     "name": "stdout",
     "output_type": "stream",
     "text": [
      "[5, 8, 10, 20]\n"
     ]
    }
   ],
   "source": [
    "l = [10, 8, 20, 5]\n",
    "\n",
    "bubblesort(l)\n",
    "\n",
    "print(l)"
   ]
  },
  {
   "cell_type": "code",
   "execution_count": null,
   "id": "fefed212-723f-4f1d-85be-c2419e79000a",
   "metadata": {},
   "outputs": [],
   "source": []
  }
 ],
 "metadata": {
  "kernelspec": {
   "display_name": "Python 3 (ipykernel)",
   "language": "python",
   "name": "python3"
  },
  "language_info": {
   "codemirror_mode": {
    "name": "ipython",
    "version": 3
   },
   "file_extension": ".py",
   "mimetype": "text/x-python",
   "name": "python",
   "nbconvert_exporter": "python",
   "pygments_lexer": "ipython3",
   "version": "3.11.7"
  }
 },
 "nbformat": 4,
 "nbformat_minor": 5
}
