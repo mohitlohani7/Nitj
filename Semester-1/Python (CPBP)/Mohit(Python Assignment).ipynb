{
 "cells": [
  {
   "cell_type": "code",
   "execution_count": 1,
   "id": "1ecd5592-a261-4860-bc8d-49795115fd4d",
   "metadata": {},
   "outputs": [
    {
     "name": "stdin",
     "output_type": "stream",
     "text": [
      "Enter numerator:  11\n",
      "Enter denominator:  15\n"
     ]
    },
    {
     "name": "stdout",
     "output_type": "stream",
     "text": [
      "Simplified Fraction: 11/15\n"
     ]
    }
   ],
   "source": [
    "#Write a program that has a class Fraction with attributes numerator and denominator. Enter the values of the attributes and print the fraction in simplified form.\n",
    "import math\n",
    "\n",
    "class Fraction:\n",
    "    def __init__(self, numerator, denominator):\n",
    "        self.numerator = numerator\n",
    "        self.denominator = denominator\n",
    "\n",
    "    def simplify(self):\n",
    "        gcd = math.gcd(self.numerator, self.denominator)\n",
    "        self.numerator //= gcd\n",
    "        self.denominator //= gcd\n",
    "\n",
    "    def __str__(self):\n",
    "        return f\"{self.numerator}/{self.denominator}\"\n",
    "\n",
    "num = int(input(\"Enter numerator: \"))\n",
    "den = int(input(\"Enter denominator: \"))\n",
    "fraction = Fraction(num, den)\n",
    "fraction.simplify()\n",
    "print(\"Simplified Fraction:\", fraction)\n"
   ]
  },
  {
   "cell_type": "code",
   "execution_count": 6,
   "id": "1ec6ccb6-e865-4d7b-8399-4fd5d30e2911",
   "metadata": {
    "scrolled": true
   },
   "outputs": [
    {
     "name": "stdout",
     "output_type": "stream",
     "text": [
      "Product Menu:\n",
      "Code: 1, Price: 50\n",
      "Code: 2, Price: 30\n",
      "Code: 3, Price: 20\n"
     ]
    },
    {
     "name": "stdin",
     "output_type": "stream",
     "text": [
      "Enter product code (or 'done' to finish):  1\n",
      "Enter quantity:  10\n",
      "Enter product code (or 'done' to finish):  2\n",
      "Enter quantity:  15\n",
      "Enter product code (or 'done' to finish):  3\n",
      "Enter quantity:  5\n",
      "Enter product code (or 'done' to finish):  done\n"
     ]
    },
    {
     "name": "stdout",
     "output_type": "stream",
     "text": [
      "Total Amount: 1050\n"
     ]
    }
   ],
   "source": [
    "'''Write a program that has a class store which keeps record of code and price of each product.\n",
    "Display a menu of all products to the user and prompt him to enter the quantity of each\n",
    "item required. Generate a bill and display the total amount.'''\n",
    "class Store:\n",
    "    def __init__(self):\n",
    "        self.products = {}\n",
    "\n",
    "    def add_product(self, code, price):\n",
    "        self.products[code] = price\n",
    "\n",
    "    def display_menu(self):\n",
    "        print(\"Product Menu:\")\n",
    "        for code, price in self.products.items():\n",
    "            print(f\"Code: {code}, Price: {price}\")\n",
    "\n",
    "    def generate_bill(self):\n",
    "        total_amount = 0\n",
    "        while True:\n",
    "            code = input(\"Enter product code (or 'done' to finish): \")\n",
    "            if code.lower() == 'done':\n",
    "                break\n",
    "            quantity = int(input(\"Enter quantity: \"))\n",
    "            if code in self.products:\n",
    "                total_amount += self.products[code] * quantity\n",
    "            else:\n",
    "                print(\"Invalid product code.\")\n",
    "        print(\"Total Amount:\", total_amount)\n",
    "\n",
    "store = Store()\n",
    "store.add_product('1', 50)\n",
    "store.add_product('2', 30)\n",
    "store.add_product('3', 20)\n",
    "store.display_menu()\n",
    "store.generate_bill()\n"
   ]
  },
  {
   "cell_type": "code",
   "execution_count": 2,
   "id": "b0f58ff6-f649-4f2f-a9d8-37ce9f782cd6",
   "metadata": {},
   "outputs": [
    {
     "name": "stdin",
     "output_type": "stream",
     "text": [
      "Enter a string:  I live in Bareilly\n"
     ]
    },
    {
     "name": "stdout",
     "output_type": "stream",
     "text": [
      "Uppercase Characters: 2\n",
      "Vowels: 7\n",
      "Consonants: 8\n",
      "Spaces: 3\n"
     ]
    }
   ],
   "source": [
    "'''Write a class that stores a string and all its status details such as number of uppercase\n",
    "characters, vowels, consonants, spaces etc.'''\n",
    "class StringStatus:\n",
    "    def __init__(self, input_string):\n",
    "        self.input_string = input_string\n",
    "        self.uppercase_count = sum(1 for c in input_string if c.isupper())\n",
    "        self.vowel_count = sum(1 for c in input_string.lower() if c in 'aeiou')\n",
    "        self.consonant_count = sum(1 for c in input_string.lower() if c.isalpha() and c not in 'aeiou')\n",
    "        self.space_count = input_string.count(' ')\n",
    "\n",
    "    def display_status(self):\n",
    "        print(f\"Uppercase Characters: {self.uppercase_count}\")\n",
    "        print(f\"Vowels: {self.vowel_count}\")\n",
    "        print(f\"Consonants: {self.consonant_count}\")\n",
    "        print(f\"Spaces: {self.space_count}\")\n",
    "\n",
    "input_string = input(\"Enter a string: \")\n",
    "string_status = StringStatus(input_string)\n",
    "string_status.display_status()\n"
   ]
  },
  {
   "cell_type": "code",
   "execution_count": 3,
   "id": "3250a55b-c4e0-4ac4-acfd-b2641a58c228",
   "metadata": {},
   "outputs": [
    {
     "name": "stdin",
     "output_type": "stream",
     "text": [
      "Enter name:  Mohit \n",
      "Enter publications (comma separated):  ML\n"
     ]
    },
    {
     "name": "stdout",
     "output_type": "stream",
     "text": [
      "Name: Mohit \n",
      "Publications: ML\n"
     ]
    }
   ],
   "source": [
    "'''Write a program that has a class person. Inherit a class Faculty from person which also has\n",
    "class Publications.'''\n",
    "class Person:\n",
    "    def __init__(self, name):\n",
    "        self.name = name\n",
    "\n",
    "class Publications:\n",
    "    def __init__(self, publication_list):\n",
    "        self.publication_list = publication_list\n",
    "\n",
    "class Faculty(Person, Publications):\n",
    "    def __init__(self, name, publication_list):\n",
    "        Person.__init__(self, name)\n",
    "        Publications.__init__(self, publication_list)\n",
    "\n",
    "    def display(self):\n",
    "        print(f\"Name: {self.name}\")\n",
    "        print(\"Publications:\", \", \".join(self.publication_list))\n",
    "\n",
    "name = input(\"Enter name: \")\n",
    "publications = input(\"Enter publications (comma separated): \").split(\", \")\n",
    "faculty = Faculty(name, publications)\n",
    "faculty.display()\n"
   ]
  },
  {
   "cell_type": "code",
   "execution_count": 9,
   "id": "9ae8a10c-5acb-471f-96f2-7ba81cb18f0d",
   "metadata": {},
   "outputs": [
    {
     "name": "stdin",
     "output_type": "stream",
     "text": [
      "Enter a date (YYYY-MM-DD):  2024-02-20\n",
      "Enter number of days to add:  52\n"
     ]
    },
    {
     "name": "stdout",
     "output_type": "stream",
     "text": [
      "New Date: 2024-04-12 00:00:00\n"
     ]
    }
   ],
   "source": [
    "'''Write a program that overloads the + operator so that it can add a specified number of days\n",
    "to a given date.'''\n",
    "from datetime import datetime, timedelta\n",
    "\n",
    "class CustomDate:\n",
    "    def __init__(self, date):\n",
    "        self.date = date\n",
    "\n",
    "    def __add__(self, days):\n",
    "        return self.date + timedelta(days=days)\n",
    "\n",
    "    def __str__(self):\n",
    "        return self.date.strftime(\"%Y-%m-%d\")\n",
    "\n",
    "\n",
    "date_input = input(\"Enter a date (YYYY-MM-DD): \")\n",
    "days_to_add = int(input(\"Enter number of days to add: \"))\n",
    "custom_date = CustomDate(datetime.strptime(date_input, \"%Y-%m-%d\"))\n",
    "new_date = custom_date + days_to_add\n",
    "print(\"New Date:\", new_date)\n"
   ]
  },
  {
   "cell_type": "code",
   "execution_count": 4,
   "id": "e7fd7af4-bab8-4e8c-9c25-84a7a6a6c7e6",
   "metadata": {},
   "outputs": [
    {
     "name": "stdout",
     "output_type": "stream",
     "text": [
      "Resulting Distance: 2 feet, 5 inches\n"
     ]
    }
   ],
   "source": [
    "#Write a program to overload -= operator to subtract two Distance objects\n",
    "class Distance:\n",
    "    def __init__(self, feet, inches):\n",
    "        self.feet = feet\n",
    "        self.inches = inches\n",
    "\n",
    "    def __isub__(self, other):\n",
    "        self.inches -= other.inches\n",
    "        self.feet -= other.feet + self.inches // 12\n",
    "        self.inches = self.inches % 12\n",
    "        if self.feet < 0:\n",
    "            self.feet = 0\n",
    "            self.inches = 0\n",
    "        return self\n",
    "\n",
    "    def __str__(self):\n",
    "        return f\"{self.feet} feet, {self.inches} inches\"\n",
    "\n",
    "d1 = Distance(5, 9)\n",
    "d2 = Distance(3, 4)\n",
    "d1 -= d2\n",
    "print(\"Resulting Distance:\", d1)\n"
   ]
  },
  {
   "cell_type": "code",
   "execution_count": null,
   "id": "b2c8ac8d-1aaa-4ca9-b0b1-4733bf803b74",
   "metadata": {},
   "outputs": [],
   "source": []
  }
 ],
 "metadata": {
  "kernelspec": {
   "display_name": "Python 3 (ipykernel)",
   "language": "python",
   "name": "python3"
  },
  "language_info": {
   "codemirror_mode": {
    "name": "ipython",
    "version": 3
   },
   "file_extension": ".py",
   "mimetype": "text/x-python",
   "name": "python",
   "nbconvert_exporter": "python",
   "pygments_lexer": "ipython3",
   "version": "3.12.0"
  }
 },
 "nbformat": 4,
 "nbformat_minor": 5
}
