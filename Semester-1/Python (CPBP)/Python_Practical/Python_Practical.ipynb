{
 "cells": [
  {
   "cell_type": "code",
   "execution_count": 21,
   "id": "dc021156-942d-4d7a-b2f3-beebc5f1bf8e",
   "metadata": {},
   "outputs": [
    {
     "name": "stdout",
     "output_type": "stream",
     "text": [
      "36\n"
     ]
    }
   ],
   "source": [
    "#Create a function that returns another function to compute a power of a number, which itself returns a function to multiply the result by a constant.\n",
    "\n",
    "def power_function(exponent):\n",
    "    def base_function(base):\n",
    "        power_result = base ** exponent \n",
    "        \n",
    "        def multiplier_function(constant):\n",
    "            return power_result * constant  \n",
    "        \n",
    "        return multiplier_function\n",
    "    \n",
    "    return base_function\n",
    "\n",
    "# Example usage:\n",
    "power_of_2 = power_function(2)  \n",
    "result_multiplier = power_of_2(3)  \n",
    "final_result = result_multiplier(4)  \n",
    "\n",
    "print(final_result)  \n"
   ]
  },
  {
   "cell_type": "code",
   "execution_count": 22,
   "id": "b64742b2-a783-4ca2-a151-42c4137e7450",
   "metadata": {
    "scrolled": true
   },
   "outputs": [
    {
     "name": "stdout",
     "output_type": "stream",
     "text": [
      "a3b2c2\n",
      "a1\n",
      "\n",
      "a1b1c1\n"
     ]
    }
   ],
   "source": [
    "#Write a function that compresses a string by counting consecutive characters. Example: \"aaabbcc\" becomes \"a3b2c2\". \n",
    "#Ensure it handles edge cases like single characters or empty strings.\n",
    "def compress_string(s):\n",
    "\n",
    "    if not s: \n",
    "        return \"\"\n",
    "    \n",
    "    compressed = []  \n",
    "    count = 1\n",
    "    \n",
    "    for i in range(1, len(s)):\n",
    "        if s[i] == s[i - 1]:\n",
    "            count += 1  \n",
    "        else:\n",
    "            compressed.append(f\"{s[i - 1]}{count}\")  \n",
    "            count = 1  # Reset count\n",
    "    \n",
    "    compressed.append(f\"{s[-1]}{count}\")  \n",
    "    return ''.join(compressed)  \n",
    "\n",
    "# Example usage:\n",
    "print(compress_string(\"aaabbcc\"))  \n",
    "print(compress_string(\"a\"))       \n",
    "print(compress_string(\"\"))        \n",
    "print(compress_string(\"abc\"))     \n"
   ]
  },
  {
   "cell_type": "code",
   "execution_count": 20,
   "id": "d08413e5-348c-4ca4-8329-4c9f6d566a13",
   "metadata": {},
   "outputs": [
    {
     "name": "stdout",
     "output_type": "stream",
     "text": [
      "Available seats: 10\n",
      "Ticket booked successfully! Remaining seats: 9\n",
      "Ticket booked successfully! Remaining seats: 8\n",
      "Ticket canceled successfully! Available seats: 9\n",
      "Available seats: 9\n"
     ]
    }
   ],
   "source": [
    "#Create a class flight to manager flights with attributes like flight number, source, destination,and capacity add method to:\n",
    "#1)book a ticket\n",
    "#2)cancel a ticket\n",
    "#3)Display avalaible seats \n",
    "#made code with python \n",
    "class Flight:\n",
    "    \n",
    "    def __init__(self, flight_number, source, destination, capacity):\n",
    "        self.flight_number = flight_number\n",
    "        self.source = source\n",
    "        self.destination = destination\n",
    "        self.capacity = capacity\n",
    "        self.booked_seats = 0\n",
    "    \n",
    "    def book_ticket(self):\n",
    "        if self.booked_seats < self.capacity:\n",
    "            self.booked_seats += 1\n",
    "            print(f\"Ticket booked successfully! Remaining seats: {self.capacity - self.booked_seats}\")\n",
    "        else:\n",
    "            print(\"Sorry, no seats available!\")\n",
    "    \n",
    "    def cancel_ticket(self):\n",
    "        if self.booked_seats > 0:\n",
    "            self.booked_seats -= 1\n",
    "            print(f\"Ticket canceled successfully! Available seats: {self.capacity - self.booked_seats}\")\n",
    "        else:\n",
    "            print(\"No tickets to cancel!\")\n",
    "    \n",
    "    def display_available_seats(self):\n",
    "        \n",
    "        print(f\"Available seats: {self.capacity - self.booked_seats}\")\n",
    "flight1 = Flight(\"AI202\", \"Delhi\", \"Mumbai\", 10)\n",
    "flight1.display_available_seats()  # Output: Available seats: 10\n",
    "flight1.book_ticket()              # Output: Ticket booked successfully! Remaining seats: 9\n",
    "flight1.book_ticket()              # Output: Ticket booked successfully! Remaining seats: 8\n",
    "flight1.cancel_ticket()            # Output: Ticket canceled successfully! Available seats: 9\n",
    "flight1.display_available_seats()  # Output: Available seats: 9\n"
   ]
  },
  {
   "cell_type": "code",
   "execution_count": null,
   "id": "46428cbb-b6cc-4604-b640-a42690c95467",
   "metadata": {},
   "outputs": [],
   "source": []
  }
 ],
 "metadata": {
  "kernelspec": {
   "display_name": "Python 3 (ipykernel)",
   "language": "python",
   "name": "python3"
  },
  "language_info": {
   "codemirror_mode": {
    "name": "ipython",
    "version": 3
   },
   "file_extension": ".py",
   "mimetype": "text/x-python",
   "name": "python",
   "nbconvert_exporter": "python",
   "pygments_lexer": "ipython3",
   "version": "3.12.0"
  }
 },
 "nbformat": 4,
 "nbformat_minor": 5
}
